{
  "nbformat": 4,
  "nbformat_minor": 0,
  "metadata": {
    "colab": {
      "provenance": [],
      "authorship_tag": "ABX9TyMgxyyYQudeUHDqSVI4yLx+",
      "include_colab_link": true
    },
    "kernelspec": {
      "name": "python3",
      "display_name": "Python 3"
    },
    "language_info": {
      "name": "python"
    }
  },
  "cells": [
    {
      "cell_type": "markdown",
      "metadata": {
        "id": "view-in-github",
        "colab_type": "text"
      },
      "source": [
        "<a href=\"https://colab.research.google.com/github/davidyuan-mle/llm/blob/main/tokenization.ipynb\" target=\"_parent\"><img src=\"https://colab.research.google.com/assets/colab-badge.svg\" alt=\"Open In Colab\"/></a>"
      ]
    },
    {
      "cell_type": "code",
      "execution_count": 1,
      "metadata": {
        "id": "YQEqbJovA6gM"
      },
      "outputs": [],
      "source": [
        "import torch"
      ]
    },
    {
      "cell_type": "code",
      "source": [
        "# ord() is the unicode\n",
        "# each chr can be encoded as a number\n",
        "x = 'hello 你好 😊'\n",
        "for s in x:\n",
        "  print(ord(s))"
      ],
      "metadata": {
        "colab": {
          "base_uri": "https://localhost:8080/"
        },
        "id": "cLtJI0z7BMO-",
        "outputId": "62e0fb5e-f00c-40c3-a620-2918c27d396c"
      },
      "execution_count": 13,
      "outputs": [
        {
          "output_type": "stream",
          "name": "stdout",
          "text": [
            "104\n",
            "101\n",
            "108\n",
            "108\n",
            "111\n",
            "32\n",
            "20320\n",
            "22909\n",
            "32\n",
            "128522\n"
          ]
        }
      ]
    },
    {
      "cell_type": "code",
      "source": [
        "# encode('utf-8') is to encode to 'utf-8' encoding scheme\n",
        "# 'utf-8' represens each chr by 1 or more bytes,\n",
        "# e.g. Englisth typically uses 1 byte, and Chinese uses 3 bytes, emoji uses 4 bytes\n",
        "# A byte is a group of 8 bits, which represents a number from 0 - 255\n",
        "# e.g. 00000000 equals 0; 00000001 equals 2^0 = 1; 01000001 equals 2^6 + 2^0 = 65; and 11111111 equals 255\n",
        "# basically each bit is 0,1 to indicate if the position is turned on or off; if turned on then 2^position, otherwise 0\n",
        "# and position is as index: 7 - 0, with far right index 0\n",
        "\n",
        "x = 'hello 你好 😊'\n",
        "list(x.encode('utf-8'))"
      ],
      "metadata": {
        "colab": {
          "base_uri": "https://localhost:8080/"
        },
        "id": "92YDHw5kLO4r",
        "outputId": "644d4287-454b-4a79-ec66-5f78378d5e61"
      },
      "execution_count": 14,
      "outputs": [
        {
          "output_type": "execute_result",
          "data": {
            "text/plain": [
              "[104,\n",
              " 101,\n",
              " 108,\n",
              " 108,\n",
              " 111,\n",
              " 32,\n",
              " 228,\n",
              " 189,\n",
              " 160,\n",
              " 229,\n",
              " 165,\n",
              " 189,\n",
              " 32,\n",
              " 240,\n",
              " 159,\n",
              " 152,\n",
              " 138]"
            ]
          },
          "metadata": {},
          "execution_count": 14
        }
      ]
    },
    {
      "cell_type": "code",
      "source": [
        "# For tiktokenization, different LLMs use different methods:\n",
        "# GPT - BPE (byte pair encoding)\n",
        "# Claude - SentencePiece + BPE hybrid\n",
        "# Gemini - SentencePiece\n",
        "# LLaMA - SentencePiece\n",
        "\n",
        "# so what is BPE algorithm?\n",
        "# Here is the wiki explaination: https://en.wikipedia.org/wiki/Byte_pair_encoding\n",
        "# Idea is to repeatly find the most occurance pairs of byte and replace with a new token (here starting from 256, 257...) until the pre-specified # of vocaburay reached.\n",
        "# As example: 'aaabdaaabac'\n",
        "# 1) 'aa' pairs happen the most, so replace it with a new letter (token) say Z, then it becomes 'ZabdZabac'\n",
        "# 2) 'ab' pairs happen the most, so replace ith with Y, then it becomes 'ZYdZYac'\n",
        "# 3) 'ZY' pairs happen the most, so replace it with X, then it becomes 'XdXac'; that's it!"
      ],
      "metadata": {
        "id": "uE647HtTLmI0"
      },
      "execution_count": 15,
      "outputs": []
    },
    {
      "cell_type": "code",
      "source": [
        "# wiki tokenization page: https://en.wikipedia.org/wiki/Tokenization_(data_security)\n",
        "text = \"The Chinese Wikipedia (traditional Chinese: 中文維基百科; simplified Chinese: 中文维基百科; pinyin: Zhōngwén Wéijī Bǎikē) is the written vernacular Chinese edition of Wikipedia. It was created on 11 May 2001.[1] It is one of multiple projects supported by the Wikimedia Foundation.The Chinese Wikipedia currently has 1,469,839 articles, 3,690,353 registered users, and 7,189 active editors, of whom 63 have administrative privileges.The Chinese Wikipedia has been blocked in mainland China since May 2015.[2] Nonetheless, the Chinese Wikipedia is still one of the top ten most active versions of Wikipedia by number of edits and number of editors,[3][4] due to contributions from users from Taiwan, Hong Kong, Macau, Singapore, Malaysia, and the Chinese diaspora.Taiwan and Hong Kong contribute most of the page views to the Chinese Wikipedia.\""
      ],
      "metadata": {
        "id": "vEjHx0LBSvV1"
      },
      "execution_count": 19,
      "outputs": []
    },
    {
      "cell_type": "code",
      "source": [
        "tokens = list(text.encode('utf-8'))\n",
        "\n",
        "print('---------')\n",
        "print(f\"text examples: {text[:50]}\")\n",
        "print(f\"tokens examples: {tokens[:50]}\")\n",
        "print('---------')\n",
        "print(f\"text length: {len(text)}\")\n",
        "print(f\"token length: {len(tokens)}\")"
      ],
      "metadata": {
        "colab": {
          "base_uri": "https://localhost:8080/"
        },
        "id": "mIQPh4QOXElg",
        "outputId": "ffc74296-9e9a-48f1-b23b-f6874004475c"
      },
      "execution_count": 25,
      "outputs": [
        {
          "output_type": "stream",
          "name": "stdout",
          "text": [
            "---------\n",
            "text examples: The Chinese Wikipedia (traditional Chinese: 中文維基百科\n",
            "tokens examples: [84, 104, 101, 32, 67, 104, 105, 110, 101, 115, 101, 32, 87, 105, 107, 105, 112, 101, 100, 105, 97, 32, 40, 116, 114, 97, 100, 105, 116, 105, 111, 110, 97, 108, 32, 67, 104, 105, 110, 101, 115, 101, 58, 32, 228, 184, 173, 230, 150, 135]\n",
            "---------\n",
            "text length: 831\n",
            "token length: 861\n"
          ]
        }
      ]
    },
    {
      "cell_type": "code",
      "source": [
        "# example to get pairs\n",
        "for pair in zip(tokens[:10], tokens[:10][1:]):\n",
        "  print(pair)"
      ],
      "metadata": {
        "colab": {
          "base_uri": "https://localhost:8080/"
        },
        "id": "mwkG3FYAZfvN",
        "outputId": "28f5da93-ec91-4465-c147-2a9d0ae32100"
      },
      "execution_count": 29,
      "outputs": [
        {
          "output_type": "stream",
          "name": "stdout",
          "text": [
            "(84, 104)\n",
            "(104, 101)\n",
            "(101, 32)\n",
            "(32, 67)\n",
            "(67, 104)\n",
            "(104, 105)\n",
            "(105, 110)\n",
            "(110, 101)\n",
            "(101, 115)\n"
          ]
        }
      ]
    },
    {
      "cell_type": "code",
      "source": [
        "def countPairs(tokens):\n",
        "  counts = {}\n",
        "  for pair in zip(tokens, tokens[1:]):\n",
        "    counts[pair] = counts.get(pair, 0) + 1\n",
        "  return counts\n",
        "\n",
        "counts = countPairs(tokens)\n",
        "print(counts)"
      ],
      "metadata": {
        "colab": {
          "base_uri": "https://localhost:8080/"
        },
        "id": "7CWCE-NhXU7q",
        "outputId": "d3a37442-cce3-4738-f424-e6079da09ee3"
      },
      "execution_count": 37,
      "outputs": [
        {
          "output_type": "stream",
          "name": "stdout",
          "text": [
            "{(84, 104): 3, (104, 101): 11, (101, 32): 28, (32, 67): 10, (67, 104): 10, (104, 105): 10, (105, 110): 17, (110, 101): 12, (101, 115): 12, (115, 101): 11, (32, 87): 9, (87, 105): 8, (105, 107): 9, (107, 105): 8, (105, 112): 8, (112, 101): 7, (101, 100): 17, (100, 105): 14, (105, 97): 10, (97, 32): 7, (32, 40): 1, (40, 116): 1, (116, 114): 4, (114, 97): 3, (97, 100): 2, (105, 116): 6, (116, 105): 10, (105, 111): 5, (111, 110): 15, (110, 97): 3, (97, 108): 2, (108, 32): 2, (101, 58): 2, (58, 32): 3, (32, 228): 2, (228, 184): 2, (184, 173): 2, (173, 230): 2, (230, 150): 2, (150, 135): 2, (135, 231): 2, (231, 182): 1, (182, 173): 1, (173, 229): 1, (229, 159): 2, (159, 186): 2, (186, 231): 2, (231, 153): 2, (153, 190): 2, (190, 231): 2, (231, 167): 2, (167, 145): 2, (145, 59): 2, (59, 32): 2, (32, 115): 4, (115, 105): 4, (105, 109): 2, (109, 112): 1, (112, 108): 2, (108, 105): 1, (105, 102): 1, (102, 105): 1, (105, 101): 2, (100, 32): 10, (231, 187): 1, (187, 180): 1, (180, 229): 1, (32, 112): 4, (112, 105): 1, (110, 121): 1, (121, 105): 1, (110, 58): 1, (32, 90): 1, (90, 104): 1, (104, 197): 1, (197, 141): 1, (141, 110): 1, (110, 103): 6, (103, 119): 1, (119, 195): 1, (195, 169): 2, (169, 110): 1, (110, 32): 8, (87, 195): 1, (169, 105): 1, (105, 106): 1, (106, 196): 1, (196, 171): 1, (171, 32): 1, (32, 66): 1, (66, 199): 1, (199, 142): 1, (142, 105): 1, (107, 196): 1, (196, 147): 1, (147, 41): 1, (41, 32): 1, (32, 105): 4, (105, 115): 5, (115, 32): 12, (32, 116): 11, (116, 104): 8, (32, 119): 3, (119, 114): 1, (114, 105): 4, (116, 116): 1, (116, 101): 6, (101, 110): 4, (32, 118): 3, (118, 101): 6, (101, 114): 7, (114, 110): 1, (97, 99): 4, (99, 117): 2, (117, 108): 2, (108, 97): 3, (97, 114): 2, (114, 32): 3, (32, 101): 4, (32, 111): 11, (111, 102): 8, (102, 32): 8, (97, 46): 3, (46, 32): 1, (32, 73): 2, (73, 116): 2, (116, 32): 4, (119, 97): 3, (97, 115): 4, (32, 99): 4, (99, 114): 1, (114, 101): 5, (101, 97): 1, (97, 116): 3, (32, 49): 2, (49, 49): 1, (49, 32): 1, (32, 77): 4, (77, 97): 4, (97, 121): 3, (121, 32): 5, (32, 50): 2, (50, 48): 2, (48, 48): 1, (48, 49): 2, (49, 46): 1, (46, 91): 2, (91, 49): 1, (49, 93): 1, (93, 32): 3, (32, 109): 4, (109, 117): 1, (108, 116): 1, (108, 101): 4, (112, 114): 2, (114, 111): 3, (111, 106): 1, (106, 101): 1, (101, 99): 1, (99, 116): 3, (116, 115): 2, (115, 117): 1, (117, 112): 1, (112, 112): 1, (112, 111): 3, (111, 114): 5, (114, 116): 2, (32, 98): 4, (98, 121): 2, (109, 101): 1, (32, 70): 1, (70, 111): 1, (111, 117): 1, (117, 110): 1, (110, 100): 6, (100, 97): 1, (110, 46): 1, (46, 84): 3, (117, 114): 1, (114, 114): 1, (110, 116): 3, (116, 108): 1, (108, 121): 1, (32, 104): 3, (104, 97): 3, (49, 44): 1, (44, 52): 1, (52, 54): 1, (54, 57): 2, (57, 44): 1, (44, 56): 1, (56, 51): 1, (51, 57): 1, (57, 32): 2, (32, 97): 8, (105, 99): 1, (99, 108): 1, (115, 44): 5, (44, 32): 9, (32, 51): 1, (51, 44): 1, (44, 54): 1, (57, 48): 1, (48, 44): 1, (44, 51): 1, (51, 53): 1, (53, 51): 1, (51, 32): 2, (32, 114): 1, (101, 103): 2, (103, 105): 1, (115, 116): 5, (32, 117): 2, (117, 115): 2, (114, 115): 5, (97, 110): 7, (32, 55): 1, (55, 44): 1, (44, 49): 1, (49, 56): 1, (56, 57): 1, (105, 118): 4, (116, 111): 5, (119, 104): 1, (104, 111): 1, (111, 109): 3, (109, 32): 3, (32, 54): 1, (54, 51): 1, (97, 118): 1, (100, 109): 1, (109, 105): 1, (110, 105): 1, (118, 105): 2, (105, 108): 2, (103, 101): 2, (115, 46): 1, (98, 101): 3, (101, 101): 1, (98, 108): 1, (108, 111): 1, (111, 99): 1, (99, 107): 1, (107, 101): 1, (109, 97): 1, (97, 105): 3, (110, 108): 1, (110, 99): 1, (99, 101): 1, (49, 53): 1, (53, 46): 1, (91, 50): 1, (50, 93): 1, (32, 78): 1, (78, 111): 1, (101, 116): 1, (101, 108): 1, (115, 115): 1, (108, 108): 1, (111, 112): 1, (112, 32): 1, (109, 111): 2, (111, 115): 2, (110, 115): 2, (32, 110): 2, (110, 117): 2, (117, 109): 2, (109, 98): 2, (44, 91): 1, (91, 51): 1, (51, 93): 1, (93, 91): 1, (91, 52): 1, (52, 93): 1, (32, 100): 2, (100, 117): 1, (117, 101): 1, (111, 32): 2, (99, 111): 2, (105, 98): 2, (98, 117): 2, (117, 116): 2, (32, 102): 2, (102, 114): 2, (32, 84): 1, (84, 97): 2, (105, 119): 2, (110, 44): 1, (32, 72): 2, (72, 111): 2, (103, 32): 3, (32, 75): 2, (75, 111): 2, (103, 44): 1, (99, 97): 1, (97, 117): 1, (117, 44): 1, (32, 83): 1, (83, 105): 1, (103, 97): 1, (97, 112): 1, (101, 44): 1, (121, 115): 1, (97, 44): 1, (115, 112): 1, (112, 97): 1, (97, 103): 1, (101, 119): 1, (119, 115): 1}\n"
          ]
        }
      ]
    },
    {
      "cell_type": "code",
      "source": [
        "max(counts, key=counts.get) # find the max value and return key"
      ],
      "metadata": {
        "colab": {
          "base_uri": "https://localhost:8080/"
        },
        "id": "jkJnSHtrYncl",
        "outputId": "7cac1236-7385-4c04-8c81-e8df577895f2"
      },
      "execution_count": 38,
      "outputs": [
        {
          "output_type": "execute_result",
          "data": {
            "text/plain": [
              "(101, 32)"
            ]
          },
          "metadata": {},
          "execution_count": 38
        }
      ]
    },
    {
      "cell_type": "code",
      "source": [
        "def mergePairs(tokens, pair, index):\n",
        "  new_tokens = []\n",
        "  i = 0\n",
        "  while i < len(tokens):\n",
        "    if i < len(tokens) - 1 and tokens[i] == pair[0] and tokens[i+1] == pair[1]:\n",
        "      new_tokens.append(index)\n",
        "      i += 2\n",
        "    else:\n",
        "      new_tokens.append(tokens[i])\n",
        "      i += 1\n",
        "  return new_tokens"
      ],
      "metadata": {
        "id": "By0fHTIxY1P5"
      },
      "execution_count": 40,
      "outputs": []
    },
    {
      "cell_type": "code",
      "source": [
        "print(mergePairs(tokens, (101,32), 256))"
      ],
      "metadata": {
        "colab": {
          "base_uri": "https://localhost:8080/"
        },
        "id": "oiaE7eWLb4NR",
        "outputId": "9ada9d46-7b2a-44e3-eb86-3e54149030be"
      },
      "execution_count": 42,
      "outputs": [
        {
          "output_type": "stream",
          "name": "stdout",
          "text": [
            "[84, 104, 256, 67, 104, 105, 110, 101, 115, 256, 87, 105, 107, 105, 112, 101, 100, 105, 97, 32, 40, 116, 114, 97, 100, 105, 116, 105, 111, 110, 97, 108, 32, 67, 104, 105, 110, 101, 115, 101, 58, 32, 228, 184, 173, 230, 150, 135, 231, 182, 173, 229, 159, 186, 231, 153, 190, 231, 167, 145, 59, 32, 115, 105, 109, 112, 108, 105, 102, 105, 101, 100, 32, 67, 104, 105, 110, 101, 115, 101, 58, 32, 228, 184, 173, 230, 150, 135, 231, 187, 180, 229, 159, 186, 231, 153, 190, 231, 167, 145, 59, 32, 112, 105, 110, 121, 105, 110, 58, 32, 90, 104, 197, 141, 110, 103, 119, 195, 169, 110, 32, 87, 195, 169, 105, 106, 196, 171, 32, 66, 199, 142, 105, 107, 196, 147, 41, 32, 105, 115, 32, 116, 104, 256, 119, 114, 105, 116, 116, 101, 110, 32, 118, 101, 114, 110, 97, 99, 117, 108, 97, 114, 32, 67, 104, 105, 110, 101, 115, 256, 101, 100, 105, 116, 105, 111, 110, 32, 111, 102, 32, 87, 105, 107, 105, 112, 101, 100, 105, 97, 46, 32, 73, 116, 32, 119, 97, 115, 32, 99, 114, 101, 97, 116, 101, 100, 32, 111, 110, 32, 49, 49, 32, 77, 97, 121, 32, 50, 48, 48, 49, 46, 91, 49, 93, 32, 73, 116, 32, 105, 115, 32, 111, 110, 256, 111, 102, 32, 109, 117, 108, 116, 105, 112, 108, 256, 112, 114, 111, 106, 101, 99, 116, 115, 32, 115, 117, 112, 112, 111, 114, 116, 101, 100, 32, 98, 121, 32, 116, 104, 256, 87, 105, 107, 105, 109, 101, 100, 105, 97, 32, 70, 111, 117, 110, 100, 97, 116, 105, 111, 110, 46, 84, 104, 256, 67, 104, 105, 110, 101, 115, 256, 87, 105, 107, 105, 112, 101, 100, 105, 97, 32, 99, 117, 114, 114, 101, 110, 116, 108, 121, 32, 104, 97, 115, 32, 49, 44, 52, 54, 57, 44, 56, 51, 57, 32, 97, 114, 116, 105, 99, 108, 101, 115, 44, 32, 51, 44, 54, 57, 48, 44, 51, 53, 51, 32, 114, 101, 103, 105, 115, 116, 101, 114, 101, 100, 32, 117, 115, 101, 114, 115, 44, 32, 97, 110, 100, 32, 55, 44, 49, 56, 57, 32, 97, 99, 116, 105, 118, 256, 101, 100, 105, 116, 111, 114, 115, 44, 32, 111, 102, 32, 119, 104, 111, 109, 32, 54, 51, 32, 104, 97, 118, 256, 97, 100, 109, 105, 110, 105, 115, 116, 114, 97, 116, 105, 118, 256, 112, 114, 105, 118, 105, 108, 101, 103, 101, 115, 46, 84, 104, 256, 67, 104, 105, 110, 101, 115, 256, 87, 105, 107, 105, 112, 101, 100, 105, 97, 32, 104, 97, 115, 32, 98, 101, 101, 110, 32, 98, 108, 111, 99, 107, 101, 100, 32, 105, 110, 32, 109, 97, 105, 110, 108, 97, 110, 100, 32, 67, 104, 105, 110, 97, 32, 115, 105, 110, 99, 256, 77, 97, 121, 32, 50, 48, 49, 53, 46, 91, 50, 93, 32, 78, 111, 110, 101, 116, 104, 101, 108, 101, 115, 115, 44, 32, 116, 104, 256, 67, 104, 105, 110, 101, 115, 256, 87, 105, 107, 105, 112, 101, 100, 105, 97, 32, 105, 115, 32, 115, 116, 105, 108, 108, 32, 111, 110, 256, 111, 102, 32, 116, 104, 256, 116, 111, 112, 32, 116, 101, 110, 32, 109, 111, 115, 116, 32, 97, 99, 116, 105, 118, 256, 118, 101, 114, 115, 105, 111, 110, 115, 32, 111, 102, 32, 87, 105, 107, 105, 112, 101, 100, 105, 97, 32, 98, 121, 32, 110, 117, 109, 98, 101, 114, 32, 111, 102, 32, 101, 100, 105, 116, 115, 32, 97, 110, 100, 32, 110, 117, 109, 98, 101, 114, 32, 111, 102, 32, 101, 100, 105, 116, 111, 114, 115, 44, 91, 51, 93, 91, 52, 93, 32, 100, 117, 256, 116, 111, 32, 99, 111, 110, 116, 114, 105, 98, 117, 116, 105, 111, 110, 115, 32, 102, 114, 111, 109, 32, 117, 115, 101, 114, 115, 32, 102, 114, 111, 109, 32, 84, 97, 105, 119, 97, 110, 44, 32, 72, 111, 110, 103, 32, 75, 111, 110, 103, 44, 32, 77, 97, 99, 97, 117, 44, 32, 83, 105, 110, 103, 97, 112, 111, 114, 101, 44, 32, 77, 97, 108, 97, 121, 115, 105, 97, 44, 32, 97, 110, 100, 32, 116, 104, 256, 67, 104, 105, 110, 101, 115, 256, 100, 105, 97, 115, 112, 111, 114, 97, 46, 84, 97, 105, 119, 97, 110, 32, 97, 110, 100, 32, 72, 111, 110, 103, 32, 75, 111, 110, 103, 32, 99, 111, 110, 116, 114, 105, 98, 117, 116, 256, 109, 111, 115, 116, 32, 111, 102, 32, 116, 104, 256, 112, 97, 103, 256, 118, 105, 101, 119, 115, 32, 116, 111, 32, 116, 104, 256, 67, 104, 105, 110, 101, 115, 256, 87, 105, 107, 105, 112, 101, 100, 105, 97, 46]\n"
          ]
        }
      ]
    },
    {
      "cell_type": "code",
      "source": [
        "def countPairs(tokens):\n",
        "  counts = {}\n",
        "  for pair in zip(tokens, tokens[1:]):\n",
        "    counts[pair] = counts.get(pair, 0) + 1\n",
        "  return counts\n",
        "\n",
        "def mergePairs(tokens, pair, index):\n",
        "  new_tokens = []\n",
        "  i = 0\n",
        "  while i < len(tokens):\n",
        "    if i < len(tokens) - 1 and tokens[i] == pair[0] and tokens[i+1] == pair[1]:\n",
        "      new_tokens.append(index)\n",
        "      i += 2\n",
        "    else:\n",
        "      new_tokens.append(tokens[i])\n",
        "      i += 1\n",
        "  return new_tokens\n",
        "\n",
        "vocal_size = 280 # expected number of vocal size\n",
        "num_merges = vocal_size - 256\n",
        "tokens = list(text.encode('utf-8'))\n",
        "tokens_copy = list(tokens)  # make a copy\n",
        "\n",
        "merges = {} # (int, int) -> int\n",
        "for i in range(num_merges):\n",
        "  counts = countPairs(tokens_copy)\n",
        "  pair = max(counts, key=counts.get)\n",
        "  index = 256 + i\n",
        "  print(f\"merging {pair} into a new token {index}\")\n",
        "  tokens_copy = mergePairs(tokens_copy, pair, index)\n",
        "  merges[pair] = index"
      ],
      "metadata": {
        "colab": {
          "base_uri": "https://localhost:8080/"
        },
        "id": "ieoIPFxEb9QL",
        "outputId": "4a505ce5-994a-4be2-c17e-99b46fadfa64"
      },
      "execution_count": 48,
      "outputs": [
        {
          "output_type": "stream",
          "name": "stdout",
          "text": [
            "merging (101, 32) into a new token 256\n",
            "merging (105, 110) into a new token 257\n",
            "merging (101, 100) into a new token 258\n",
            "merging (111, 110) into a new token 259\n",
            "merging (101, 115) into a new token 260\n",
            "merging (258, 105) into a new token 261\n",
            "merging (115, 32) into a new token 262\n",
            "merging (104, 256) into a new token 263\n",
            "merging (67, 104) into a new token 264\n",
            "merging (264, 257) into a new token 265\n",
            "merging (116, 105) into a new token 266\n",
            "merging (265, 260) into a new token 267\n",
            "merging (105, 107) into a new token 268\n",
            "merging (44, 32) into a new token 269\n",
            "merging (87, 268) into a new token 270\n",
            "merging (270, 105) into a new token 271\n",
            "merging (261, 97) into a new token 272\n",
            "merging (111, 102) into a new token 273\n",
            "merging (273, 32) into a new token 274\n",
            "merging (267, 256) into a new token 275\n",
            "merging (271, 112) into a new token 276\n",
            "merging (276, 272) into a new token 277\n",
            "merging (116, 263) into a new token 278\n",
            "merging (101, 114) into a new token 279\n"
          ]
        }
      ]
    },
    {
      "cell_type": "code",
      "source": [
        "merges"
      ],
      "metadata": {
        "colab": {
          "base_uri": "https://localhost:8080/"
        },
        "id": "HpM52dQ5clGz",
        "outputId": "0c1c2d4f-5660-4e84-96c4-a768168b1460"
      },
      "execution_count": 49,
      "outputs": [
        {
          "output_type": "execute_result",
          "data": {
            "text/plain": [
              "{(101, 32): 256,\n",
              " (105, 110): 257,\n",
              " (101, 100): 258,\n",
              " (111, 110): 259,\n",
              " (101, 115): 260,\n",
              " (258, 105): 261,\n",
              " (115, 32): 262,\n",
              " (104, 256): 263,\n",
              " (67, 104): 264,\n",
              " (264, 257): 265,\n",
              " (116, 105): 266,\n",
              " (265, 260): 267,\n",
              " (105, 107): 268,\n",
              " (44, 32): 269,\n",
              " (87, 268): 270,\n",
              " (270, 105): 271,\n",
              " (261, 97): 272,\n",
              " (111, 102): 273,\n",
              " (273, 32): 274,\n",
              " (267, 256): 275,\n",
              " (271, 112): 276,\n",
              " (276, 272): 277,\n",
              " (116, 263): 278,\n",
              " (101, 114): 279}"
            ]
          },
          "metadata": {},
          "execution_count": 49
        }
      ]
    },
    {
      "cell_type": "code",
      "source": [
        "print(f\"length of raw tokens: {len(tokens)}\")\n",
        "print(f\"length of compressed tokens: {len(tokens_copy)}\")\n",
        "print(f\"compression ratio: {len(tokens) / len(tokens_copy):.2f}\")"
      ],
      "metadata": {
        "colab": {
          "base_uri": "https://localhost:8080/"
        },
        "id": "Zw-muXgQdoX9",
        "outputId": "a337e44f-b4fb-49c2-f7fa-3838c5dd0863"
      },
      "execution_count": 53,
      "outputs": [
        {
          "output_type": "stream",
          "name": "stdout",
          "text": [
            "length of raw tokens: 861\n",
            "length of compressed tokens: 606\n",
            "compression ratio: 1.42\n"
          ]
        }
      ]
    },
    {
      "cell_type": "code",
      "source": [
        "vocab = {idx: bytes([idx]) for idx in range(256)}\n",
        "for (p0, p1), idx in merges.items():\n",
        "    vocab[idx] = vocab[p0] + vocab[p1]\n",
        "\n",
        "print(vocab)"
      ],
      "metadata": {
        "colab": {
          "base_uri": "https://localhost:8080/"
        },
        "id": "z1VETm39eK0S",
        "outputId": "e3f701f7-5fec-4d95-bca5-3584c6c73b66"
      },
      "execution_count": 57,
      "outputs": [
        {
          "output_type": "stream",
          "name": "stdout",
          "text": [
            "{0: b'\\x00', 1: b'\\x01', 2: b'\\x02', 3: b'\\x03', 4: b'\\x04', 5: b'\\x05', 6: b'\\x06', 7: b'\\x07', 8: b'\\x08', 9: b'\\t', 10: b'\\n', 11: b'\\x0b', 12: b'\\x0c', 13: b'\\r', 14: b'\\x0e', 15: b'\\x0f', 16: b'\\x10', 17: b'\\x11', 18: b'\\x12', 19: b'\\x13', 20: b'\\x14', 21: b'\\x15', 22: b'\\x16', 23: b'\\x17', 24: b'\\x18', 25: b'\\x19', 26: b'\\x1a', 27: b'\\x1b', 28: b'\\x1c', 29: b'\\x1d', 30: b'\\x1e', 31: b'\\x1f', 32: b' ', 33: b'!', 34: b'\"', 35: b'#', 36: b'$', 37: b'%', 38: b'&', 39: b\"'\", 40: b'(', 41: b')', 42: b'*', 43: b'+', 44: b',', 45: b'-', 46: b'.', 47: b'/', 48: b'0', 49: b'1', 50: b'2', 51: b'3', 52: b'4', 53: b'5', 54: b'6', 55: b'7', 56: b'8', 57: b'9', 58: b':', 59: b';', 60: b'<', 61: b'=', 62: b'>', 63: b'?', 64: b'@', 65: b'A', 66: b'B', 67: b'C', 68: b'D', 69: b'E', 70: b'F', 71: b'G', 72: b'H', 73: b'I', 74: b'J', 75: b'K', 76: b'L', 77: b'M', 78: b'N', 79: b'O', 80: b'P', 81: b'Q', 82: b'R', 83: b'S', 84: b'T', 85: b'U', 86: b'V', 87: b'W', 88: b'X', 89: b'Y', 90: b'Z', 91: b'[', 92: b'\\\\', 93: b']', 94: b'^', 95: b'_', 96: b'`', 97: b'a', 98: b'b', 99: b'c', 100: b'd', 101: b'e', 102: b'f', 103: b'g', 104: b'h', 105: b'i', 106: b'j', 107: b'k', 108: b'l', 109: b'm', 110: b'n', 111: b'o', 112: b'p', 113: b'q', 114: b'r', 115: b's', 116: b't', 117: b'u', 118: b'v', 119: b'w', 120: b'x', 121: b'y', 122: b'z', 123: b'{', 124: b'|', 125: b'}', 126: b'~', 127: b'\\x7f', 128: b'\\x80', 129: b'\\x81', 130: b'\\x82', 131: b'\\x83', 132: b'\\x84', 133: b'\\x85', 134: b'\\x86', 135: b'\\x87', 136: b'\\x88', 137: b'\\x89', 138: b'\\x8a', 139: b'\\x8b', 140: b'\\x8c', 141: b'\\x8d', 142: b'\\x8e', 143: b'\\x8f', 144: b'\\x90', 145: b'\\x91', 146: b'\\x92', 147: b'\\x93', 148: b'\\x94', 149: b'\\x95', 150: b'\\x96', 151: b'\\x97', 152: b'\\x98', 153: b'\\x99', 154: b'\\x9a', 155: b'\\x9b', 156: b'\\x9c', 157: b'\\x9d', 158: b'\\x9e', 159: b'\\x9f', 160: b'\\xa0', 161: b'\\xa1', 162: b'\\xa2', 163: b'\\xa3', 164: b'\\xa4', 165: b'\\xa5', 166: b'\\xa6', 167: b'\\xa7', 168: b'\\xa8', 169: b'\\xa9', 170: b'\\xaa', 171: b'\\xab', 172: b'\\xac', 173: b'\\xad', 174: b'\\xae', 175: b'\\xaf', 176: b'\\xb0', 177: b'\\xb1', 178: b'\\xb2', 179: b'\\xb3', 180: b'\\xb4', 181: b'\\xb5', 182: b'\\xb6', 183: b'\\xb7', 184: b'\\xb8', 185: b'\\xb9', 186: b'\\xba', 187: b'\\xbb', 188: b'\\xbc', 189: b'\\xbd', 190: b'\\xbe', 191: b'\\xbf', 192: b'\\xc0', 193: b'\\xc1', 194: b'\\xc2', 195: b'\\xc3', 196: b'\\xc4', 197: b'\\xc5', 198: b'\\xc6', 199: b'\\xc7', 200: b'\\xc8', 201: b'\\xc9', 202: b'\\xca', 203: b'\\xcb', 204: b'\\xcc', 205: b'\\xcd', 206: b'\\xce', 207: b'\\xcf', 208: b'\\xd0', 209: b'\\xd1', 210: b'\\xd2', 211: b'\\xd3', 212: b'\\xd4', 213: b'\\xd5', 214: b'\\xd6', 215: b'\\xd7', 216: b'\\xd8', 217: b'\\xd9', 218: b'\\xda', 219: b'\\xdb', 220: b'\\xdc', 221: b'\\xdd', 222: b'\\xde', 223: b'\\xdf', 224: b'\\xe0', 225: b'\\xe1', 226: b'\\xe2', 227: b'\\xe3', 228: b'\\xe4', 229: b'\\xe5', 230: b'\\xe6', 231: b'\\xe7', 232: b'\\xe8', 233: b'\\xe9', 234: b'\\xea', 235: b'\\xeb', 236: b'\\xec', 237: b'\\xed', 238: b'\\xee', 239: b'\\xef', 240: b'\\xf0', 241: b'\\xf1', 242: b'\\xf2', 243: b'\\xf3', 244: b'\\xf4', 245: b'\\xf5', 246: b'\\xf6', 247: b'\\xf7', 248: b'\\xf8', 249: b'\\xf9', 250: b'\\xfa', 251: b'\\xfb', 252: b'\\xfc', 253: b'\\xfd', 254: b'\\xfe', 255: b'\\xff', 256: b'e ', 257: b'in', 258: b'ed', 259: b'on', 260: b'es', 261: b'edi', 262: b's ', 263: b'he ', 264: b'Ch', 265: b'Chin', 266: b'ti', 267: b'Chines', 268: b'ik', 269: b', ', 270: b'Wik', 271: b'Wiki', 272: b'edia', 273: b'of', 274: b'of ', 275: b'Chinese ', 276: b'Wikip', 277: b'Wikipedia', 278: b'the ', 279: b'er'}\n"
          ]
        }
      ]
    },
    {
      "cell_type": "code",
      "source": [],
      "metadata": {
        "id": "VDLdfbcGfG9s"
      },
      "execution_count": 69,
      "outputs": []
    },
    {
      "cell_type": "code",
      "source": [],
      "metadata": {
        "id": "Z_3YceMZfoCk"
      },
      "execution_count": null,
      "outputs": []
    }
  ]
}